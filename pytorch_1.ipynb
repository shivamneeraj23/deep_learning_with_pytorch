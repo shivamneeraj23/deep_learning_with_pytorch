{
  "nbformat": 4,
  "nbformat_minor": 0,
  "metadata": {
    "colab": {
      "name": "pytorch_1.ipynb",
      "provenance": [],
      "collapsed_sections": [],
      "authorship_tag": "ABX9TyPNbCBn+Pe2SXmQrg8LtAAb",
      "include_colab_link": true
    },
    "kernelspec": {
      "name": "python3",
      "display_name": "Python 3"
    },
    "accelerator": "GPU"
  },
  "cells": [
    {
      "cell_type": "markdown",
      "metadata": {
        "id": "view-in-github",
        "colab_type": "text"
      },
      "source": [
        "<a href=\"https://colab.research.google.com/github/shivamneeraj23/deep_learning_with_pytorch/blob/master/pytorch_1.ipynb\" target=\"_parent\"><img src=\"https://colab.research.google.com/assets/colab-badge.svg\" alt=\"Open In Colab\"/></a>"
      ]
    },
    {
      "cell_type": "code",
      "metadata": {
        "id": "Jvnur-o8EUHr",
        "colab_type": "code",
        "colab": {}
      },
      "source": [
        "# Imports the torch module\n",
        "import torch"
      ],
      "execution_count": 2,
      "outputs": []
    },
    {
      "cell_type": "code",
      "metadata": {
        "id": "iPDtXqnGF8V0",
        "colab_type": "code",
        "colab": {}
      },
      "source": [
        "# Creates a one-dimensional tensor of size 3 filled with 1s\n",
        "a = torch.ones(3)"
      ],
      "execution_count": 5,
      "outputs": []
    },
    {
      "cell_type": "code",
      "metadata": {
        "id": "M2GX8z_GF-l7",
        "colab_type": "code",
        "colab": {
          "base_uri": "https://localhost:8080/",
          "height": 34
        },
        "outputId": "e56d926b-9839-4f53-d3a1-7c219c558576"
      },
      "source": [
        "a"
      ],
      "execution_count": 6,
      "outputs": [
        {
          "output_type": "execute_result",
          "data": {
            "text/plain": [
              "tensor([1., 1., 1.])"
            ]
          },
          "metadata": {
            "tags": []
          },
          "execution_count": 6
        }
      ]
    },
    {
      "cell_type": "code",
      "metadata": {
        "id": "Fk_ZdpGCF_jo",
        "colab_type": "code",
        "colab": {
          "base_uri": "https://localhost:8080/",
          "height": 34
        },
        "outputId": "cdf11afc-afbe-4f30-bbae-65d2388a44c6"
      },
      "source": [
        "float(a[1])"
      ],
      "execution_count": 8,
      "outputs": [
        {
          "output_type": "execute_result",
          "data": {
            "text/plain": [
              "1.0"
            ]
          },
          "metadata": {
            "tags": []
          },
          "execution_count": 8
        }
      ]
    },
    {
      "cell_type": "code",
      "metadata": {
        "id": "zTXSwm2XGjyq",
        "colab_type": "code",
        "colab": {}
      },
      "source": [
        "\"\"\"\n",
        "We are storing all the points as a list of all the cordinates of the triangle, \n",
        "x cordinate in odd places and y in even places\n",
        "\"\"\"\n",
        "\n",
        "points = torch.tensor([4.0, 1.0, 5.0, 3.0, 2.0, 1.0])"
      ],
      "execution_count": 20,
      "outputs": []
    },
    {
      "cell_type": "code",
      "metadata": {
        "id": "u1BNLtxzHtF7",
        "colab_type": "code",
        "colab": {
          "base_uri": "https://localhost:8080/",
          "height": 34
        },
        "outputId": "e0fbc721-a00f-4277-a8de-a97211601a13"
      },
      "source": [
        "points"
      ],
      "execution_count": 21,
      "outputs": [
        {
          "output_type": "execute_result",
          "data": {
            "text/plain": [
              "tensor([4., 1., 5., 3., 2., 1.])"
            ]
          },
          "metadata": {
            "tags": []
          },
          "execution_count": 21
        }
      ]
    },
    {
      "cell_type": "code",
      "metadata": {
        "id": "fgBSvWKSIp45",
        "colab_type": "code",
        "colab": {
          "base_uri": "https://localhost:8080/",
          "height": 34
        },
        "outputId": "f730de90-9d8b-4049-cd44-c1f422e28e5e"
      },
      "source": [
        "points.shape"
      ],
      "execution_count": 22,
      "outputs": [
        {
          "output_type": "execute_result",
          "data": {
            "text/plain": [
              "torch.Size([6])"
            ]
          },
          "metadata": {
            "tags": []
          },
          "execution_count": 22
        }
      ]
    },
    {
      "cell_type": "code",
      "metadata": {
        "id": "Ix3usSDLHu04",
        "colab_type": "code",
        "colab": {}
      },
      "source": [
        "\"\"\"\n",
        "We are storing the points as (x,y) pair\n",
        "\"\"\"\n",
        "points = torch.tensor([[4.0, 1.0], [5.0, 3.0], [2.0, 1.0]])"
      ],
      "execution_count": 17,
      "outputs": []
    },
    {
      "cell_type": "code",
      "metadata": {
        "id": "tkpcsh8LH1OW",
        "colab_type": "code",
        "colab": {
          "base_uri": "https://localhost:8080/",
          "height": 34
        },
        "outputId": "ab2b286e-88e1-4b0c-c8d9-aff970e66f68"
      },
      "source": [
        "points[0]"
      ],
      "execution_count": 18,
      "outputs": [
        {
          "output_type": "execute_result",
          "data": {
            "text/plain": [
              "tensor([4., 1.])"
            ]
          },
          "metadata": {
            "tags": []
          },
          "execution_count": 18
        }
      ]
    },
    {
      "cell_type": "code",
      "metadata": {
        "id": "F8Y2P8BmH3f0",
        "colab_type": "code",
        "colab": {
          "base_uri": "https://localhost:8080/",
          "height": 34
        },
        "outputId": "7f428012-917f-4d15-a6b9-76f400f65ae8"
      },
      "source": [
        "points.shape"
      ],
      "execution_count": 19,
      "outputs": [
        {
          "output_type": "execute_result",
          "data": {
            "text/plain": [
              "torch.Size([3, 2])"
            ]
          },
          "metadata": {
            "tags": []
          },
          "execution_count": 19
        }
      ]
    },
    {
      "cell_type": "code",
      "metadata": {
        "id": "z88t7A31IosT",
        "colab_type": "code",
        "colab": {}
      },
      "source": [
        "img_t = torch.randn(3, 5, 5) # shape [channels, rows, columns]"
      ],
      "execution_count": 7,
      "outputs": []
    },
    {
      "cell_type": "code",
      "metadata": {
        "id": "B6Mov4p6MyEo",
        "colab_type": "code",
        "colab": {
          "base_uri": "https://localhost:8080/",
          "height": 306
        },
        "outputId": "daf1ecdc-79a0-4453-f416-46a5a4385f7e"
      },
      "source": [
        "img_t"
      ],
      "execution_count": 24,
      "outputs": [
        {
          "output_type": "execute_result",
          "data": {
            "text/plain": [
              "tensor([[[ 0.7394, -1.4989,  1.4434, -0.4643, -0.1264],\n",
              "         [ 0.0869,  1.6064,  0.7058,  1.4784, -1.5146],\n",
              "         [-1.4187, -0.4091, -0.7729, -1.2944,  0.5705],\n",
              "         [-1.1994, -0.0953, -1.1998,  0.1060,  0.7736],\n",
              "         [ 0.9098,  1.3020,  0.0528,  0.0709,  0.9171]],\n",
              "\n",
              "        [[ 0.9158, -1.8349, -0.0219, -0.1350, -0.4613],\n",
              "         [ 0.2999, -0.1424,  0.0171,  1.5912,  1.0075],\n",
              "         [ 1.1135, -1.2250, -1.5755,  1.4300,  0.2868],\n",
              "         [ 1.3583, -0.7200,  0.8518, -1.1487, -1.3931],\n",
              "         [ 0.9435, -0.0672, -0.5707, -1.3334, -0.5937]],\n",
              "\n",
              "        [[-0.5692,  0.3995,  1.8115, -0.3702, -0.4847],\n",
              "         [ 1.0624,  0.9455,  0.5469,  0.0425,  1.0902],\n",
              "         [-0.0468, -1.1532,  0.1132, -0.9637,  0.7045],\n",
              "         [-0.5091, -0.0231,  0.7919,  0.0877, -0.0634],\n",
              "         [ 0.1227, -0.9199, -0.4937, -0.7561,  0.2228]]])"
            ]
          },
          "metadata": {
            "tags": []
          },
          "execution_count": 24
        }
      ]
    },
    {
      "cell_type": "code",
      "metadata": {
        "id": "ErY8CohhMzP6",
        "colab_type": "code",
        "colab": {}
      },
      "source": [
        "batch_t = torch.randn(2, 3, 5, 5) # shape [batch, channels, rows, columns]"
      ],
      "execution_count": 3,
      "outputs": []
    },
    {
      "cell_type": "code",
      "metadata": {
        "id": "-RWCm_X8fYrU",
        "colab_type": "code",
        "colab": {}
      },
      "source": [
        "img_gray_naive = img_t.mean(-3)"
      ],
      "execution_count": 8,
      "outputs": []
    },
    {
      "cell_type": "code",
      "metadata": {
        "id": "MNBWIK-9fxq6",
        "colab_type": "code",
        "colab": {
          "base_uri": "https://localhost:8080/",
          "height": 102
        },
        "outputId": "c350549b-af43-406a-bd98-6faa6e7789d4"
      },
      "source": [
        "img_gray_naive"
      ],
      "execution_count": 9,
      "outputs": [
        {
          "output_type": "execute_result",
          "data": {
            "text/plain": [
              "tensor([[ 0.2161,  0.2059, -0.1378,  0.4106,  0.4336],\n",
              "        [-0.1967, -0.4636, -0.4221, -0.1994,  0.1623],\n",
              "        [ 0.1883,  0.1393, -1.0258, -0.7932, -0.7473],\n",
              "        [ 0.2471,  0.0579,  0.3958,  0.6643,  0.5166],\n",
              "        [ 0.0522,  0.2243,  0.2064,  0.4262,  0.7123]])"
            ]
          },
          "metadata": {
            "tags": []
          },
          "execution_count": 9
        }
      ]
    },
    {
      "cell_type": "code",
      "metadata": {
        "id": "ZsqXDpj4gA9f",
        "colab_type": "code",
        "colab": {}
      },
      "source": [
        "batch_gray_naive = batch_t.mean(-3)"
      ],
      "execution_count": 10,
      "outputs": []
    },
    {
      "cell_type": "code",
      "metadata": {
        "id": "h3XK3vk4gVle",
        "colab_type": "code",
        "colab": {
          "base_uri": "https://localhost:8080/",
          "height": 34
        },
        "outputId": "00e53a33-20b3-424d-bef8-519a8eea05a2"
      },
      "source": [
        "img_gray_naive.shape, batch_gray_naive.shape"
      ],
      "execution_count": 11,
      "outputs": [
        {
          "output_type": "execute_result",
          "data": {
            "text/plain": [
              "(torch.Size([5, 5]), torch.Size([2, 5, 5]))"
            ]
          },
          "metadata": {
            "tags": []
          },
          "execution_count": 11
        }
      ]
    },
    {
      "cell_type": "code",
      "metadata": {
        "id": "SGAk5piQgW6I",
        "colab_type": "code",
        "colab": {}
      },
      "source": [
        ""
      ],
      "execution_count": 12,
      "outputs": []
    },
    {
      "cell_type": "markdown",
      "metadata": {
        "id": "Lqpi8pwAhIHw",
        "colab_type": "text"
      },
      "source": [
        "Defining Named Tensors in Pytorch as unamed tensors leads to a lot of confusion"
      ]
    },
    {
      "cell_type": "code",
      "metadata": {
        "id": "QdKFcRdOhHPB",
        "colab_type": "code",
        "colab": {
          "base_uri": "https://localhost:8080/",
          "height": 71
        },
        "outputId": "870de7af-7a32-4ba5-ef2d-f633404aa982"
      },
      "source": [
        "weights_named = torch.tensor([0.2126, 0.7152, 0.0722], names=['channels'])"
      ],
      "execution_count": 13,
      "outputs": [
        {
          "output_type": "stream",
          "text": [
            "/usr/local/lib/python3.6/dist-packages/ipykernel_launcher.py:1: UserWarning: Named tensors and all their associated APIs are an experimental feature and subject to change. Please do not use them for anything important until they are released as stable. (Triggered internally at  /pytorch/c10/core/TensorImpl.h:840.)\n",
            "  \"\"\"Entry point for launching an IPython kernel.\n"
          ],
          "name": "stderr"
        }
      ]
    },
    {
      "cell_type": "code",
      "metadata": {
        "id": "d9y-S49lgmAH",
        "colab_type": "code",
        "colab": {
          "base_uri": "https://localhost:8080/",
          "height": 34
        },
        "outputId": "138da6d2-9178-41ae-879d-c2fde3d22167"
      },
      "source": [
        "weights_named.shape"
      ],
      "execution_count": 19,
      "outputs": [
        {
          "output_type": "execute_result",
          "data": {
            "text/plain": [
              "torch.Size([3])"
            ]
          },
          "metadata": {
            "tags": []
          },
          "execution_count": 19
        }
      ]
    },
    {
      "cell_type": "markdown",
      "metadata": {
        "id": "nKrKJ-FMh1tu",
        "colab_type": "text"
      },
      "source": [
        "Refining Name of Unamed tensors "
      ]
    },
    {
      "cell_type": "code",
      "metadata": {
        "id": "OurvrpOPhSGW",
        "colab_type": "code",
        "colab": {}
      },
      "source": [
        "img_named = img_t.refine_names(..., 'channels', 'rows', 'columns')"
      ],
      "execution_count": 15,
      "outputs": []
    },
    {
      "cell_type": "code",
      "metadata": {
        "id": "vTFdgKUphbpC",
        "colab_type": "code",
        "colab": {
          "base_uri": "https://localhost:8080/",
          "height": 323
        },
        "outputId": "b86547b5-a7c0-49b0-d6aa-5dd804a6a002"
      },
      "source": [
        "img_named"
      ],
      "execution_count": 16,
      "outputs": [
        {
          "output_type": "execute_result",
          "data": {
            "text/plain": [
              "tensor([[[ 0.0355, -0.1360,  0.4669,  0.3779, -1.6713],\n",
              "         [ 0.5710, -1.0845,  0.3073, -1.5804,  0.6618],\n",
              "         [ 1.2415,  1.1004, -1.7466, -0.6275, -0.6986],\n",
              "         [-0.7561,  0.0362, -0.8625,  0.2569,  0.5807],\n",
              "         [-1.1030,  0.9727,  0.8205, -0.7019,  0.8770]],\n",
              "\n",
              "        [[ 0.8543,  0.0242,  0.3515,  0.1931,  0.9706],\n",
              "         [-0.7333, -0.0134, -0.2288,  0.2369,  1.7131],\n",
              "         [-1.0182, -0.3387, -1.5403, -0.7116, -2.8139],\n",
              "         [-0.1727,  1.0527,  0.6488, -0.7788,  2.1436],\n",
              "         [-0.2342, -0.1741,  1.0119,  1.7116,  0.1216]],\n",
              "\n",
              "        [[-0.2415,  0.7294, -1.2318,  0.6609,  2.0014],\n",
              "         [-0.4277, -0.2930, -1.3448,  0.7454, -1.8880],\n",
              "         [ 0.3415, -0.3437,  0.2094, -1.0405,  1.2705],\n",
              "         [ 1.6703, -0.9152,  1.4012,  2.5148, -1.1744],\n",
              "         [ 1.4938, -0.1257, -1.2133,  0.2689,  1.1381]]],\n",
              "       names=('channels', 'rows', 'columns'))"
            ]
          },
          "metadata": {
            "tags": []
          },
          "execution_count": 16
        }
      ]
    },
    {
      "cell_type": "markdown",
      "metadata": {
        "id": "3G3eYTA_iVcJ",
        "colab_type": "text"
      },
      "source": [
        "For operations with two inputs, in addition to the usual dimension checks—whether\n",
        "sizes are the same, or if one is 1 and can be broadcast to the other—PyTorch will now\n",
        "check the names for us. So far, it does not automatically align dimensions, so we need\n",
        "to do this explicitly. The method align_as returns a tensor with missing dimensions\n",
        "added and existing ones permuted to the right order:"
      ]
    },
    {
      "cell_type": "code",
      "metadata": {
        "id": "y9HffQlfhc1A",
        "colab_type": "code",
        "colab": {}
      },
      "source": [
        "\n",
        "weights_aligned = weights_named.align_as(img_named)"
      ],
      "execution_count": 17,
      "outputs": []
    },
    {
      "cell_type": "code",
      "metadata": {
        "id": "9cbafzKPiK-6",
        "colab_type": "code",
        "colab": {
          "base_uri": "https://localhost:8080/",
          "height": 34
        },
        "outputId": "605a48b0-2e97-4dbf-a259-5aa6c6cc0fb2"
      },
      "source": [
        "weights_aligned.shape, weights_aligned.names"
      ],
      "execution_count": 18,
      "outputs": [
        {
          "output_type": "execute_result",
          "data": {
            "text/plain": [
              "(torch.Size([3, 1, 1]), ('channels', 'rows', 'columns'))"
            ]
          },
          "metadata": {
            "tags": []
          },
          "execution_count": 18
        }
      ]
    },
    {
      "cell_type": "code",
      "metadata": {
        "id": "cOh0DH0fiMnT",
        "colab_type": "code",
        "colab": {}
      },
      "source": [
        "gray_named = (img_named * weights_aligned).sum('channels')"
      ],
      "execution_count": 20,
      "outputs": []
    },
    {
      "cell_type": "code",
      "metadata": {
        "id": "734e52zGio68",
        "colab_type": "code",
        "colab": {
          "base_uri": "https://localhost:8080/",
          "height": 119
        },
        "outputId": "2684446f-c3c2-4a10-b755-e06df9df2f17"
      },
      "source": [
        "gray_named"
      ],
      "execution_count": 21,
      "outputs": [
        {
          "output_type": "execute_result",
          "data": {
            "text/plain": [
              "tensor([[ 0.6011,  0.0411,  0.2617,  0.2661,  0.4833],\n",
              "        [-0.4340, -0.2613, -0.1954, -0.1127,  1.2296],\n",
              "        [-0.4396, -0.0331, -1.4579, -0.7175, -2.0693],\n",
              "        [-0.1637,  0.6945,  0.3818, -0.3208,  1.5718],\n",
              "        [-0.2941,  0.0732,  0.8106,  1.0944,  0.3556]],\n",
              "       names=('rows', 'columns'))"
            ]
          },
          "metadata": {
            "tags": []
          },
          "execution_count": 21
        }
      ]
    },
    {
      "cell_type": "code",
      "metadata": {
        "id": "9ZgpLWtCi0FO",
        "colab_type": "code",
        "colab": {}
      },
      "source": [
        ""
      ],
      "execution_count": null,
      "outputs": []
    }
  ]
}